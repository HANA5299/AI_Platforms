{
  "nbformat": 4,
  "nbformat_minor": 0,
  "metadata": {
    "colab": {
      "provenance": []
    },
    "kernelspec": {
      "name": "python3",
      "display_name": "Python 3"
    },
    "language_info": {
      "name": "python"
    }
  },
  "cells": [
    {
      "cell_type": "code",
      "execution_count": 1,
      "metadata": {
        "id": "FbYz6AhwzaxG"
      },
      "outputs": [],
      "source": [
        "import torch\n",
        "import torch.nn as nn\n",
        "import torch.nn.functional as F\n",
        "from torch.optim import SGD\n",
        "\n",
        "import matplotlib.pyplot as plt\n",
        "import seaborn as sns"
      ]
    },
    {
      "cell_type": "code",
      "source": [
        "class SimpleNN(nn.Module):\n",
        "    def __init__(self):\n",
        "        super().__init__()\n",
        "        # Define weights and biases\n",
        "        self.w00 = nn.Parameter(torch.tensor(1.1), requires_grad=True)\n",
        "        self.w01 = nn.Parameter(torch.tensor(1.2), requires_grad=True)\n",
        "        self.b00 = nn.Parameter(torch.tensor(1.4), requires_grad=True)\n",
        "\n",
        "        self.w10 = nn.Parameter(torch.tensor(1.4), requires_grad=True)\n",
        "        self.w11 = nn.Parameter(torch.tensor(1.5), requires_grad=True)\n",
        "        self.b10 = nn.Parameter(torch.tensor(1.6), requires_grad=True)\n",
        "\n",
        "        self.w20 = nn.Parameter(torch.tensor(1.8), requires_grad=True)\n",
        "        self.w21 = nn.Parameter(torch.tensor(1.9), requires_grad=True)\n",
        "        self.b20 = nn.Parameter(torch.tensor(2.0), requires_grad=True)\n",
        "\n",
        "    def forward(self, x):\n",
        "        # Layer 1\n",
        "        input_layer1 = self.w00 * x[0] + self.w01 * x[1] + self.b00\n",
        "        layer_01_out = F.relu(input_layer1)\n",
        "        print(f\"Layer 1 input: {input_layer1.item():.4f}, output (ReLU): {layer_01_out.item():.4f}\")\n",
        "\n",
        "        # Layer 2\n",
        "        input_layer2 = self.w10 * layer_01_out + self.w11 * layer_01_out + self.b10\n",
        "        layer_02_out = torch.sigmoid(input_layer2)\n",
        "        print(f\"Layer 2 input: {input_layer2.item():.4f}, output (Sigmoid): {layer_02_out.item():.4f}\")\n",
        "\n",
        "        # Output layer\n",
        "        output_input = self.w20 * layer_01_out + self.w21 * layer_02_out + self.b20\n",
        "        final_output = torch.tanh(output_input)\n",
        "        print(f\"Output layer input: {output_input.item():.4f}, final output (Tanh): {final_output.item():.4f}\")\n",
        "\n",
        "        return final_output"
      ],
      "metadata": {
        "id": "LSEsVRCa02OQ"
      },
      "execution_count": 4,
      "outputs": []
    },
    {
      "cell_type": "code",
      "source": [
        "model1 = SimpleNN()\n",
        "x = torch.tensor([1.0, 2.0])  # Example input\n",
        "output = model1(x)\n",
        "\n",
        "print(\"Final Output\")\n",
        "print(output)"
      ],
      "metadata": {
        "colab": {
          "base_uri": "https://localhost:8080/"
        },
        "id": "KU-LcdxG-Ehz",
        "outputId": "7fa369be-dab5-4bb8-80af-daaba33c3980"
      },
      "execution_count": 5,
      "outputs": [
        {
          "output_type": "stream",
          "name": "stdout",
          "text": [
            "Layer 1 input: 4.9000, output (ReLU): 4.9000\n",
            "Layer 2 input: 15.8100, output (Sigmoid): 1.0000\n",
            "Output layer input: 12.7200, final output (Tanh): 1.0000\n",
            "Final Output\n",
            "tensor(1., grad_fn=<TanhBackward0>)\n"
          ]
        }
      ]
    }
  ]
}